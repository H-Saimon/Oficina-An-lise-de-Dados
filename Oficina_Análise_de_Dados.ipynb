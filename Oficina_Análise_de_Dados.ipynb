{
  "nbformat": 4,
  "nbformat_minor": 0,
  "metadata": {
    "colab": {
      "provenance": [],
      "include_colab_link": true
    },
    "kernelspec": {
      "name": "python3",
      "display_name": "Python 3"
    },
    "language_info": {
      "name": "python"
    }
  },
  "cells": [
    {
      "cell_type": "markdown",
      "metadata": {
        "id": "view-in-github",
        "colab_type": "text"
      },
      "source": [
        "<a href=\"https://colab.research.google.com/github/H-Saimon/Oficina-An-lise-de-Dados/blob/Teste1/Oficina_An%C3%A1lise_de_Dados.ipynb\" target=\"_parent\"><img src=\"https://colab.research.google.com/assets/colab-badge.svg\" alt=\"Open In Colab\"/></a>"
      ]
    },
    {
      "cell_type": "code",
      "execution_count": null,
      "metadata": {
        "id": "ylQE8ySM41o3"
      },
      "outputs": [],
      "source": [
        "import pandas as pd\n",
        "\n",
        "from IPython.display import display, HTML\n",
        "\n",
        "import urllib.request\n",
        "\n",
        "url='https://drive.google.com/file/d/19bng-iAZ9sIewl74HqkCMxB6kyr6mSt_/view?usp=sharing'\n",
        "file_id = url.split('/')[-2]\n",
        "dwn_url='https://drive.google.com/uc?export=download&id=' + file_id\n",
        "\n",
        "opener = urllib.request.build_opener()\n",
        "opener.addheaders = [('User-agent', 'Mozilla/5.0 (Windows NT 10.0; Win64; x64) AppleWebKit/537.36 (KHTML, like Gecko) Chrome/83.0.4103.61 Safari/537.36')]\n",
        "urllib.request.install_opener(opener)\n",
        "\n",
        "urllib.request.urlretrieve (dwn_url, \"MICRODADOS_ENEM_2020_BA_15cid_selcols.csv\")\n",
        "\n",
        "enemdf = pd.read_csv(\"MICRODADOS_ENEM_2020_BA_15cid_selcols.csv\",index_col=False)"
      ]
    },
    {
      "cell_type": "code",
      "source": [
        "display(enemdf.shape)\n",
        "display(enemdf.head(2))"
      ],
      "metadata": {
        "colab": {
          "base_uri": "https://localhost:8080/",
          "height": 178
        },
        "id": "W4EqTz7EIgHj",
        "outputId": "6a7db706-7ede-401b-942a-d742be4c10bf"
      },
      "execution_count": null,
      "outputs": [
        {
          "output_type": "display_data",
          "data": {
            "text/plain": [
              "(17443, 53)"
            ]
          },
          "metadata": {}
        },
        {
          "output_type": "display_data",
          "data": {
            "text/plain": [
              "   NU_INSCRICAO  NU_ANO  TP_FAIXA_ETARIA TP_SEXO  TP_ESTADO_CIVIL  \\\n",
              "0  200001464463    2020                2       F                1   \n",
              "1  200002932158    2020                2       M                1   \n",
              "\n",
              "   TP_COR_RACA  TP_NACIONALIDADE  TP_ST_CONCLUSAO  TP_ANO_CONCLUIU  TP_ESCOLA  \\\n",
              "0            3                 1                2                0          2   \n",
              "1            2                 1                2                0          2   \n",
              "\n",
              "   ...  Q016  Q017  Q018 Q019  Q020 Q021  Q022  Q023  Q024  Q025  \n",
              "0  ...     A     A     A    B     A    A     C     A     A     B  \n",
              "1  ...     A     A     A    B     B    A     D     A     A     B  \n",
              "\n",
              "[2 rows x 53 columns]"
            ],
            "text/html": [
              "\n",
              "  <div id=\"df-6860c9db-52f8-412d-8307-9fa628b01766\" class=\"colab-df-container\">\n",
              "    <div>\n",
              "<style scoped>\n",
              "    .dataframe tbody tr th:only-of-type {\n",
              "        vertical-align: middle;\n",
              "    }\n",
              "\n",
              "    .dataframe tbody tr th {\n",
              "        vertical-align: top;\n",
              "    }\n",
              "\n",
              "    .dataframe thead th {\n",
              "        text-align: right;\n",
              "    }\n",
              "</style>\n",
              "<table border=\"1\" class=\"dataframe\">\n",
              "  <thead>\n",
              "    <tr style=\"text-align: right;\">\n",
              "      <th></th>\n",
              "      <th>NU_INSCRICAO</th>\n",
              "      <th>NU_ANO</th>\n",
              "      <th>TP_FAIXA_ETARIA</th>\n",
              "      <th>TP_SEXO</th>\n",
              "      <th>TP_ESTADO_CIVIL</th>\n",
              "      <th>TP_COR_RACA</th>\n",
              "      <th>TP_NACIONALIDADE</th>\n",
              "      <th>TP_ST_CONCLUSAO</th>\n",
              "      <th>TP_ANO_CONCLUIU</th>\n",
              "      <th>TP_ESCOLA</th>\n",
              "      <th>...</th>\n",
              "      <th>Q016</th>\n",
              "      <th>Q017</th>\n",
              "      <th>Q018</th>\n",
              "      <th>Q019</th>\n",
              "      <th>Q020</th>\n",
              "      <th>Q021</th>\n",
              "      <th>Q022</th>\n",
              "      <th>Q023</th>\n",
              "      <th>Q024</th>\n",
              "      <th>Q025</th>\n",
              "    </tr>\n",
              "  </thead>\n",
              "  <tbody>\n",
              "    <tr>\n",
              "      <th>0</th>\n",
              "      <td>200001464463</td>\n",
              "      <td>2020</td>\n",
              "      <td>2</td>\n",
              "      <td>F</td>\n",
              "      <td>1</td>\n",
              "      <td>3</td>\n",
              "      <td>1</td>\n",
              "      <td>2</td>\n",
              "      <td>0</td>\n",
              "      <td>2</td>\n",
              "      <td>...</td>\n",
              "      <td>A</td>\n",
              "      <td>A</td>\n",
              "      <td>A</td>\n",
              "      <td>B</td>\n",
              "      <td>A</td>\n",
              "      <td>A</td>\n",
              "      <td>C</td>\n",
              "      <td>A</td>\n",
              "      <td>A</td>\n",
              "      <td>B</td>\n",
              "    </tr>\n",
              "    <tr>\n",
              "      <th>1</th>\n",
              "      <td>200002932158</td>\n",
              "      <td>2020</td>\n",
              "      <td>2</td>\n",
              "      <td>M</td>\n",
              "      <td>1</td>\n",
              "      <td>2</td>\n",
              "      <td>1</td>\n",
              "      <td>2</td>\n",
              "      <td>0</td>\n",
              "      <td>2</td>\n",
              "      <td>...</td>\n",
              "      <td>A</td>\n",
              "      <td>A</td>\n",
              "      <td>A</td>\n",
              "      <td>B</td>\n",
              "      <td>B</td>\n",
              "      <td>A</td>\n",
              "      <td>D</td>\n",
              "      <td>A</td>\n",
              "      <td>A</td>\n",
              "      <td>B</td>\n",
              "    </tr>\n",
              "  </tbody>\n",
              "</table>\n",
              "<p>2 rows × 53 columns</p>\n",
              "</div>\n",
              "    <div class=\"colab-df-buttons\">\n",
              "\n",
              "  <div class=\"colab-df-container\">\n",
              "    <button class=\"colab-df-convert\" onclick=\"convertToInteractive('df-6860c9db-52f8-412d-8307-9fa628b01766')\"\n",
              "            title=\"Convert this dataframe to an interactive table.\"\n",
              "            style=\"display:none;\">\n",
              "\n",
              "  <svg xmlns=\"http://www.w3.org/2000/svg\" height=\"24px\" viewBox=\"0 -960 960 960\">\n",
              "    <path d=\"M120-120v-720h720v720H120Zm60-500h600v-160H180v160Zm220 220h160v-160H400v160Zm0 220h160v-160H400v160ZM180-400h160v-160H180v160Zm440 0h160v-160H620v160ZM180-180h160v-160H180v160Zm440 0h160v-160H620v160Z\"/>\n",
              "  </svg>\n",
              "    </button>\n",
              "\n",
              "  <style>\n",
              "    .colab-df-container {\n",
              "      display:flex;\n",
              "      gap: 12px;\n",
              "    }\n",
              "\n",
              "    .colab-df-convert {\n",
              "      background-color: #E8F0FE;\n",
              "      border: none;\n",
              "      border-radius: 50%;\n",
              "      cursor: pointer;\n",
              "      display: none;\n",
              "      fill: #1967D2;\n",
              "      height: 32px;\n",
              "      padding: 0 0 0 0;\n",
              "      width: 32px;\n",
              "    }\n",
              "\n",
              "    .colab-df-convert:hover {\n",
              "      background-color: #E2EBFA;\n",
              "      box-shadow: 0px 1px 2px rgba(60, 64, 67, 0.3), 0px 1px 3px 1px rgba(60, 64, 67, 0.15);\n",
              "      fill: #174EA6;\n",
              "    }\n",
              "\n",
              "    .colab-df-buttons div {\n",
              "      margin-bottom: 4px;\n",
              "    }\n",
              "\n",
              "    [theme=dark] .colab-df-convert {\n",
              "      background-color: #3B4455;\n",
              "      fill: #D2E3FC;\n",
              "    }\n",
              "\n",
              "    [theme=dark] .colab-df-convert:hover {\n",
              "      background-color: #434B5C;\n",
              "      box-shadow: 0px 1px 3px 1px rgba(0, 0, 0, 0.15);\n",
              "      filter: drop-shadow(0px 1px 2px rgba(0, 0, 0, 0.3));\n",
              "      fill: #FFFFFF;\n",
              "    }\n",
              "  </style>\n",
              "\n",
              "    <script>\n",
              "      const buttonEl =\n",
              "        document.querySelector('#df-6860c9db-52f8-412d-8307-9fa628b01766 button.colab-df-convert');\n",
              "      buttonEl.style.display =\n",
              "        google.colab.kernel.accessAllowed ? 'block' : 'none';\n",
              "\n",
              "      async function convertToInteractive(key) {\n",
              "        const element = document.querySelector('#df-6860c9db-52f8-412d-8307-9fa628b01766');\n",
              "        const dataTable =\n",
              "          await google.colab.kernel.invokeFunction('convertToInteractive',\n",
              "                                                    [key], {});\n",
              "        if (!dataTable) return;\n",
              "\n",
              "        const docLinkHtml = 'Like what you see? Visit the ' +\n",
              "          '<a target=\"_blank\" href=https://colab.research.google.com/notebooks/data_table.ipynb>data table notebook</a>'\n",
              "          + ' to learn more about interactive tables.';\n",
              "        element.innerHTML = '';\n",
              "        dataTable['output_type'] = 'display_data';\n",
              "        await google.colab.output.renderOutput(dataTable, element);\n",
              "        const docLink = document.createElement('div');\n",
              "        docLink.innerHTML = docLinkHtml;\n",
              "        element.appendChild(docLink);\n",
              "      }\n",
              "    </script>\n",
              "  </div>\n",
              "\n",
              "\n",
              "<div id=\"df-aa60a4d5-999d-4956-beac-85275c48d11d\">\n",
              "  <button class=\"colab-df-quickchart\" onclick=\"quickchart('df-aa60a4d5-999d-4956-beac-85275c48d11d')\"\n",
              "            title=\"Suggest charts\"\n",
              "            style=\"display:none;\">\n",
              "\n",
              "<svg xmlns=\"http://www.w3.org/2000/svg\" height=\"24px\"viewBox=\"0 0 24 24\"\n",
              "     width=\"24px\">\n",
              "    <g>\n",
              "        <path d=\"M19 3H5c-1.1 0-2 .9-2 2v14c0 1.1.9 2 2 2h14c1.1 0 2-.9 2-2V5c0-1.1-.9-2-2-2zM9 17H7v-7h2v7zm4 0h-2V7h2v10zm4 0h-2v-4h2v4z\"/>\n",
              "    </g>\n",
              "</svg>\n",
              "  </button>\n",
              "\n",
              "<style>\n",
              "  .colab-df-quickchart {\n",
              "      --bg-color: #E8F0FE;\n",
              "      --fill-color: #1967D2;\n",
              "      --hover-bg-color: #E2EBFA;\n",
              "      --hover-fill-color: #174EA6;\n",
              "      --disabled-fill-color: #AAA;\n",
              "      --disabled-bg-color: #DDD;\n",
              "  }\n",
              "\n",
              "  [theme=dark] .colab-df-quickchart {\n",
              "      --bg-color: #3B4455;\n",
              "      --fill-color: #D2E3FC;\n",
              "      --hover-bg-color: #434B5C;\n",
              "      --hover-fill-color: #FFFFFF;\n",
              "      --disabled-bg-color: #3B4455;\n",
              "      --disabled-fill-color: #666;\n",
              "  }\n",
              "\n",
              "  .colab-df-quickchart {\n",
              "    background-color: var(--bg-color);\n",
              "    border: none;\n",
              "    border-radius: 50%;\n",
              "    cursor: pointer;\n",
              "    display: none;\n",
              "    fill: var(--fill-color);\n",
              "    height: 32px;\n",
              "    padding: 0;\n",
              "    width: 32px;\n",
              "  }\n",
              "\n",
              "  .colab-df-quickchart:hover {\n",
              "    background-color: var(--hover-bg-color);\n",
              "    box-shadow: 0 1px 2px rgba(60, 64, 67, 0.3), 0 1px 3px 1px rgba(60, 64, 67, 0.15);\n",
              "    fill: var(--button-hover-fill-color);\n",
              "  }\n",
              "\n",
              "  .colab-df-quickchart-complete:disabled,\n",
              "  .colab-df-quickchart-complete:disabled:hover {\n",
              "    background-color: var(--disabled-bg-color);\n",
              "    fill: var(--disabled-fill-color);\n",
              "    box-shadow: none;\n",
              "  }\n",
              "\n",
              "  .colab-df-spinner {\n",
              "    border: 2px solid var(--fill-color);\n",
              "    border-color: transparent;\n",
              "    border-bottom-color: var(--fill-color);\n",
              "    animation:\n",
              "      spin 1s steps(1) infinite;\n",
              "  }\n",
              "\n",
              "  @keyframes spin {\n",
              "    0% {\n",
              "      border-color: transparent;\n",
              "      border-bottom-color: var(--fill-color);\n",
              "      border-left-color: var(--fill-color);\n",
              "    }\n",
              "    20% {\n",
              "      border-color: transparent;\n",
              "      border-left-color: var(--fill-color);\n",
              "      border-top-color: var(--fill-color);\n",
              "    }\n",
              "    30% {\n",
              "      border-color: transparent;\n",
              "      border-left-color: var(--fill-color);\n",
              "      border-top-color: var(--fill-color);\n",
              "      border-right-color: var(--fill-color);\n",
              "    }\n",
              "    40% {\n",
              "      border-color: transparent;\n",
              "      border-right-color: var(--fill-color);\n",
              "      border-top-color: var(--fill-color);\n",
              "    }\n",
              "    60% {\n",
              "      border-color: transparent;\n",
              "      border-right-color: var(--fill-color);\n",
              "    }\n",
              "    80% {\n",
              "      border-color: transparent;\n",
              "      border-right-color: var(--fill-color);\n",
              "      border-bottom-color: var(--fill-color);\n",
              "    }\n",
              "    90% {\n",
              "      border-color: transparent;\n",
              "      border-bottom-color: var(--fill-color);\n",
              "    }\n",
              "  }\n",
              "</style>\n",
              "\n",
              "  <script>\n",
              "    async function quickchart(key) {\n",
              "      const quickchartButtonEl =\n",
              "        document.querySelector('#' + key + ' button');\n",
              "      quickchartButtonEl.disabled = true;  // To prevent multiple clicks.\n",
              "      quickchartButtonEl.classList.add('colab-df-spinner');\n",
              "      try {\n",
              "        const charts = await google.colab.kernel.invokeFunction(\n",
              "            'suggestCharts', [key], {});\n",
              "      } catch (error) {\n",
              "        console.error('Error during call to suggestCharts:', error);\n",
              "      }\n",
              "      quickchartButtonEl.classList.remove('colab-df-spinner');\n",
              "      quickchartButtonEl.classList.add('colab-df-quickchart-complete');\n",
              "    }\n",
              "    (() => {\n",
              "      let quickchartButtonEl =\n",
              "        document.querySelector('#df-aa60a4d5-999d-4956-beac-85275c48d11d button');\n",
              "      quickchartButtonEl.style.display =\n",
              "        google.colab.kernel.accessAllowed ? 'block' : 'none';\n",
              "    })();\n",
              "  </script>\n",
              "</div>\n",
              "\n",
              "    </div>\n",
              "  </div>\n"
            ],
            "application/vnd.google.colaboratory.intrinsic+json": {
              "type": "dataframe"
            }
          },
          "metadata": {}
        }
      ]
    },
    {
      "cell_type": "code",
      "source": [
        "display(enemdf.NO_MUNICIPIO_ESC)"
      ],
      "metadata": {
        "colab": {
          "base_uri": "https://localhost:8080/",
          "height": 225
        },
        "id": "1nxLTSh7JXoK",
        "outputId": "78a84b06-8149-4267-9fd4-22513aa5f22d"
      },
      "execution_count": null,
      "outputs": [
        {
          "output_type": "display_data",
          "data": {
            "text/plain": [
              "0                    Camaçari\n",
              "1            Feira de Santana\n",
              "2                    Salvador\n",
              "3                    Salvador\n",
              "4            Feira de Santana\n",
              "                 ...         \n",
              "17438                Salvador\n",
              "17439               Barreiras\n",
              "17440                Salvador\n",
              "17441    Vitória da Conquista\n",
              "17442                Salvador\n",
              "Name: NO_MUNICIPIO_ESC, Length: 17443, dtype: object"
            ]
          },
          "metadata": {}
        }
      ]
    },
    {
      "cell_type": "code",
      "source": [
        "display(enemdf.NO_MUNICIPIO_ESC.unique())"
      ],
      "metadata": {
        "colab": {
          "base_uri": "https://localhost:8080/",
          "height": 86
        },
        "id": "PwKPUgtLJty5",
        "outputId": "3f918a4f-240e-41ea-832c-7793a56ee4cf"
      },
      "execution_count": null,
      "outputs": [
        {
          "output_type": "display_data",
          "data": {
            "text/plain": [
              "array(['Camaçari', 'Feira de Santana', 'Salvador', 'Juazeiro', 'Jequié',\n",
              "       'Ilhéus', 'Barreiras', 'Alagoinhas', 'Paulo Afonso',\n",
              "       'Vitória da Conquista', 'Lauro de Freitas', 'Itabuna',\n",
              "       'Porto Seguro', 'Irecê', 'Eunápolis'], dtype=object)"
            ]
          },
          "metadata": {}
        }
      ]
    },
    {
      "cell_type": "code",
      "source": [
        "display(enemdf.NO_MUNICIPIO_PROVA.unique())"
      ],
      "metadata": {
        "colab": {
          "base_uri": "https://localhost:8080/",
          "height": 625
        },
        "id": "2yT_hEaeKFzr",
        "outputId": "a137f25a-fa61-4238-a332-30b06e72f03d"
      },
      "execution_count": null,
      "outputs": [
        {
          "output_type": "display_data",
          "data": {
            "text/plain": [
              "array(['Camaçari', 'Feira de Santana', 'Salvador', 'Juazeiro', 'Jequié',\n",
              "       'Ilhéus', 'Barreiras', 'Alagoinhas', 'Paulo Afonso',\n",
              "       'Vitória da Conquista', 'Anagé', 'Lauro de Freitas', 'Itabuna',\n",
              "       'Porto Seguro', 'Irecê', 'Eunápolis', 'São Gonçalo dos Campos',\n",
              "       'Itapetinga', 'Canarana', 'Conceição do Jacuípe', 'Uibaí',\n",
              "       'Cachoeira', 'Petrolina', 'Morro do Chapéu', 'Irará', 'Aracaju',\n",
              "       'Canavieiras', 'Ubaitaba', 'Vera Cruz', 'Ibicaraí',\n",
              "       'Conceição da Feira', 'Cordeiros', 'Cândido Sales', 'Caculé',\n",
              "       'Barra da Estiva', 'Coração de Maria', 'Jeremoabo', 'Catu',\n",
              "       'Simões Filho', 'Mata de São João', 'Riachão do Jacuípe',\n",
              "       \"Dias d'Ávila\", 'Presidente Dutra', 'Una', 'Sobradinho', 'Ibititá',\n",
              "       'Amargosa', 'Amélia Rodrigues', 'Itajuípe', 'São Gabriel',\n",
              "       'João Dourado', 'Campo Formoso', 'Delmiro Gouveia',\n",
              "       'São Sebastião do Passé', 'Santo Estêvão', 'Entre Rios', 'Jussara',\n",
              "       'Lapão', 'São Francisco do Conde', 'Candeias', 'Ipiaú',\n",
              "       'Ibotirama', 'Buerarema', 'Camacan', 'Gandu', 'Barra do Choça',\n",
              "       'Araci', 'Macaúbas', 'Xique-Xique', 'Inhambupe', 'Ipirá', 'Uauá',\n",
              "       'Água Branca', 'Itaberaba', 'Pilão Arcado',\n",
              "       'Santo Antônio de Jesus', 'Jaguaquara', 'São Paulo', 'Curaçá',\n",
              "       'Pojuca', 'Itabela', 'Esplanada', 'Itambé', 'Poções',\n",
              "       'Formosa do Rio Preto', 'Santo Amaro', 'Sento Sé',\n",
              "       'Bom Jesus da Lapa', 'Brumado', 'Paramirim', 'Duque de Caxias',\n",
              "       'Maragogipe', 'Guanambi', 'Luís Eduardo Magalhães', 'Petrolândia',\n",
              "       'Barra', 'São João de Meriti', 'Serrinha', 'Cassilândia',\n",
              "       'Rio Real', 'Caetité', 'Riachão das Neves', 'Baixa Grande',\n",
              "       'Camamu', 'Santo André', 'Ruy Barbosa', 'Araripe', 'Santaluz',\n",
              "       'Santa Maria da Vitória', 'Santa Rita de Cássia', 'Corrente',\n",
              "       'Capim Grosso', 'Itaparica', 'Seabra', 'Ubaíra',\n",
              "       'Teixeira de Freitas', 'Curitiba', 'Itamaraju', 'Boquira',\n",
              "       'Coaraci', 'Casa Nova', 'Rio das Ostras', 'Ituberá', 'Jaguarari',\n",
              "       'Senhor do Bonfim', 'Louveira', 'Maracás', 'Bauru', 'Remanso',\n",
              "       'Jacobina', 'Cocos', 'Cansanção', 'Salinas',\n",
              "       'Livramento de Nossa Senhora', 'Governador Mangabeira', 'Recife',\n",
              "       'Nazaré', 'Canindé de São Francisco', 'Milagres', 'Lagoa Grande',\n",
              "       'Campo Alegre de Lourdes', 'Brasília'], dtype=object)"
            ]
          },
          "metadata": {}
        }
      ]
    },
    {
      "cell_type": "markdown",
      "source": [
        "Não necessariamente o estudante faz a prova na mesma cidade em que ele estuda"
      ],
      "metadata": {
        "id": "BfclN3qdP_T0"
      }
    },
    {
      "cell_type": "code",
      "source": [
        "display(\"Media da nota de redação dos inscritos\")\n",
        "display(enemdf['NU_NOTA_REDACAO'].mean())"
      ],
      "metadata": {
        "colab": {
          "base_uri": "https://localhost:8080/",
          "height": 53
        },
        "id": "ZdjtoczVKke8",
        "outputId": "9be50cae-0390-4fe2-9fbc-802d98ab04ec"
      },
      "execution_count": null,
      "outputs": [
        {
          "output_type": "display_data",
          "data": {
            "text/plain": [
              "'Media da nota de redação dos inscritos'"
            ],
            "application/vnd.google.colaboratory.intrinsic+json": {
              "type": "string"
            }
          },
          "metadata": {}
        },
        {
          "output_type": "display_data",
          "data": {
            "text/plain": [
              "632.6285616006421"
            ]
          },
          "metadata": {}
        }
      ]
    },
    {
      "cell_type": "code",
      "source": [
        "display(\"Media da nota de ciencias da natureza\")\n",
        "display(enemdf['NU_NOTA_CN'].mean())"
      ],
      "metadata": {
        "colab": {
          "base_uri": "https://localhost:8080/",
          "height": 53
        },
        "id": "1ecOUOOXLGp7",
        "outputId": "36426878-1789-4b6e-c8eb-6671645e514a"
      },
      "execution_count": null,
      "outputs": [
        {
          "output_type": "display_data",
          "data": {
            "text/plain": [
              "'Media da nota de ciencias da natureza'"
            ],
            "application/vnd.google.colaboratory.intrinsic+json": {
              "type": "string"
            }
          },
          "metadata": {}
        },
        {
          "output_type": "display_data",
          "data": {
            "text/plain": [
              "505.82191326983383"
            ]
          },
          "metadata": {}
        }
      ]
    },
    {
      "cell_type": "code",
      "source": [
        "display(\"Media da nota de ciencias humanas\")\n",
        "display(enemdf['NU_NOTA_CH'].mean())"
      ],
      "metadata": {
        "colab": {
          "base_uri": "https://localhost:8080/",
          "height": 53
        },
        "id": "uSX0VysDLek2",
        "outputId": "1468e3bf-7ad1-4db3-af95-47275568ba52"
      },
      "execution_count": null,
      "outputs": [
        {
          "output_type": "display_data",
          "data": {
            "text/plain": [
              "'Media da nota de ciencias humanas'"
            ],
            "application/vnd.google.colaboratory.intrinsic+json": {
              "type": "string"
            }
          },
          "metadata": {}
        },
        {
          "output_type": "display_data",
          "data": {
            "text/plain": [
              "527.4254486040245"
            ]
          },
          "metadata": {}
        }
      ]
    },
    {
      "cell_type": "code",
      "source": [
        "display(\"Media da nota de linguagens e codigos\")\n",
        "display(enemdf['NU_NOTA_LC'].mean())"
      ],
      "metadata": {
        "colab": {
          "base_uri": "https://localhost:8080/",
          "height": 53
        },
        "id": "3NycByduLzsv",
        "outputId": "12fef1da-6f8e-4fc8-9ec6-ff15885b8f6d"
      },
      "execution_count": null,
      "outputs": [
        {
          "output_type": "display_data",
          "data": {
            "text/plain": [
              "'Media da nota de linguagens e codigos'"
            ],
            "application/vnd.google.colaboratory.intrinsic+json": {
              "type": "string"
            }
          },
          "metadata": {}
        },
        {
          "output_type": "display_data",
          "data": {
            "text/plain": [
              "539.8221636186436"
            ]
          },
          "metadata": {}
        }
      ]
    },
    {
      "cell_type": "code",
      "source": [
        "display(\"Media da nota de matemática\")\n",
        "display(enemdf['NU_NOTA_MT'].mean())"
      ],
      "metadata": {
        "colab": {
          "base_uri": "https://localhost:8080/",
          "height": 53
        },
        "id": "cI_Bj_ugL7tL",
        "outputId": "edb5df61-acd8-4756-c843-58f8b97002d0"
      },
      "execution_count": null,
      "outputs": [
        {
          "output_type": "display_data",
          "data": {
            "text/plain": [
              "'Media da nota de matemática'"
            ],
            "application/vnd.google.colaboratory.intrinsic+json": {
              "type": "string"
            }
          },
          "metadata": {}
        },
        {
          "output_type": "display_data",
          "data": {
            "text/plain": [
              "541.2797787375023"
            ]
          },
          "metadata": {}
        }
      ]
    },
    {
      "cell_type": "markdown",
      "source": [
        "Os estudantes da Bahia desempenham melhor em redação do que em questões objetivas"
      ],
      "metadata": {
        "id": "5LCAMnFNQJsY"
      }
    },
    {
      "cell_type": "code",
      "source": [
        "display(\"Média, Mediana e Moda da nota de redação dos inscritos de Feira de Santana\")\n",
        "df = enemdf[enemdf['NO_MUNICIPIO_ESC'] == 'Feira de Santana']['NU_NOTA_REDACAO']\n",
        "display(df.mean())\n",
        "display(df.median())\n",
        "display(df.mode())"
      ],
      "metadata": {
        "colab": {
          "base_uri": "https://localhost:8080/",
          "height": 105
        },
        "id": "vhrnAqLqMz90",
        "outputId": "79d9e744-fae3-433c-ea13-58b4b5274d66"
      },
      "execution_count": null,
      "outputs": [
        {
          "output_type": "display_data",
          "data": {
            "text/plain": [
              "'Média, Mediana e Moda da nota de redação dos inscritos de Feira de Santana'"
            ],
            "application/vnd.google.colaboratory.intrinsic+json": {
              "type": "string"
            }
          },
          "metadata": {}
        },
        {
          "output_type": "display_data",
          "data": {
            "text/plain": [
              "635.4821802935011"
            ]
          },
          "metadata": {}
        },
        {
          "output_type": "display_data",
          "data": {
            "text/plain": [
              "640.0"
            ]
          },
          "metadata": {}
        },
        {
          "output_type": "display_data",
          "data": {
            "text/plain": [
              "0    600\n",
              "Name: NU_NOTA_REDACAO, dtype: int64"
            ]
          },
          "metadata": {}
        }
      ]
    },
    {
      "cell_type": "code",
      "source": [
        "display(\"Média, Mediana e Moda da nota de redação dos inscritos de Salvador\")\n",
        "df = enemdf[enemdf['NO_MUNICIPIO_ESC'] == 'Juazeiro']['NU_NOTA_REDACAO']\n",
        "display(df.mean())\n",
        "display(df.median())\n",
        "display(df.mode())"
      ],
      "metadata": {
        "colab": {
          "base_uri": "https://localhost:8080/",
          "height": 105
        },
        "id": "9q0-i0VVPLPi",
        "outputId": "f739b120-c51d-4172-f584-0c6266cd370a"
      },
      "execution_count": null,
      "outputs": [
        {
          "output_type": "display_data",
          "data": {
            "text/plain": [
              "'Média, Mediana e Moda da nota de redação dos inscritos de Salvador'"
            ],
            "application/vnd.google.colaboratory.intrinsic+json": {
              "type": "string"
            }
          },
          "metadata": {}
        },
        {
          "output_type": "display_data",
          "data": {
            "text/plain": [
              "570.8620689655172"
            ]
          },
          "metadata": {}
        },
        {
          "output_type": "display_data",
          "data": {
            "text/plain": [
              "580.0"
            ]
          },
          "metadata": {}
        },
        {
          "output_type": "display_data",
          "data": {
            "text/plain": [
              "0    580\n",
              "Name: NU_NOTA_REDACAO, dtype: int64"
            ]
          },
          "metadata": {}
        }
      ]
    },
    {
      "cell_type": "markdown",
      "source": [
        "Os estudantes de Feira de Santana desempenham melhor em redação do que os de Juazeiro"
      ],
      "metadata": {
        "id": "ZckwvtGfQV5q"
      }
    },
    {
      "cell_type": "code",
      "source": [
        "df = enemdf[['TP_FAIXA_ETARIA', 'TP_ESTADO_CIVIL']]\n",
        "df.boxplot(by='TP_ESTADO_CIVIL')"
      ],
      "metadata": {
        "colab": {
          "base_uri": "https://localhost:8080/",
          "height": 495
        },
        "id": "KhAVhbioQsFh",
        "outputId": "23ea8f5b-33ea-461d-8478-4cd743ece7b8"
      },
      "execution_count": null,
      "outputs": [
        {
          "output_type": "execute_result",
          "data": {
            "text/plain": [
              "<Axes: title={'center': 'TP_FAIXA_ETARIA'}, xlabel='[TP_ESTADO_CIVIL]'>"
            ]
          },
          "metadata": {},
          "execution_count": 19
        },
        {
          "output_type": "display_data",
          "data": {
            "text/plain": [
              "<Figure size 640x480 with 1 Axes>"
            ],
            "image/png": "[encoded data removed]"
          },
          "metadata": {}
        }
      ]
    },
    {
      "cell_type": "code",
      "source": [
        "import matplotlib.pyplot as plt\n",
        "\n",
        "df = enemdf[['NU_NOTA_REDACAO', 'TP_SEXO']]\n",
        "mdf = df['TP_SEXO'] == 'M'\n",
        "fdf = df['TP_SEXO'] == 'F'\n",
        "plt.style.use('ggplot')\n",
        "\n",
        "plt.title('Nota de redação por genero')\n",
        "\n",
        "plt.hist(df['NU_NOTA_REDACAO'][mdf], edgecolor='black', color='blue',\n",
        "         rwidth=0.7, alpha=0.5, label='Masculino')\n",
        "plt.hist(df['NU_NOTA_REDACAO'][fdf], edgecolor='black', color='brown',\n",
        "         rwidth=0.7, alpha=0.5, label='Feminino')\n",
        "plt.legend(loc='upper right')\n",
        "\n",
        "plt.xlabel('Nota redação')\n",
        "plt.ylabel('Numero de pessoas')\n",
        "\n",
        "plt.tight_layout()\n",
        "\n",
        "plt.show()"
      ],
      "metadata": {
        "colab": {
          "base_uri": "https://localhost:8080/",
          "height": 487
        },
        "id": "ZOGJq29ia5Lr",
        "outputId": "e643bb40-12f0-4ddb-d79a-8d4057a35747"
      },
      "execution_count": null,
      "outputs": [
        {
          "output_type": "display_data",
          "data": {
            "text/plain": [
              "<Figure size 640x480 with 1 Axes>"
            ],
            "image/png": "[encoded data removed]"
          },
          "metadata": {}
        }
      ]
    },
    {
      "cell_type": "code",
      "source": [
        "import matplotlib.pyplot as plt\n",
        "\n",
        "df = enemdf[['NU_NOTA_MT', 'TP_SEXO']]\n",
        "mdf = df['TP_SEXO'] == 'M'\n",
        "fdf = df['TP_SEXO'] == 'F'\n",
        "plt.style.use('ggplot')\n",
        "\n",
        "plt.title('Nota de MATEMÁTICA por genero')\n",
        "\n",
        "plt.hist(df['NU_NOTA_MT'][mdf], edgecolor='black', color='blue',\n",
        "         rwidth=0.7, alpha=0.5, label='Masculino')\n",
        "plt.hist(df['NU_NOTA_MT'][fdf], edgecolor='black', color='brown',\n",
        "         rwidth=0.7, alpha=0.5, label='Feminino')\n",
        "plt.legend(loc='upper right')\n",
        "\n",
        "plt.xlabel('Nota MATEMATICA')\n",
        "plt.ylabel('Numero de pessoas')\n",
        "\n",
        "plt.tight_layout()\n",
        "\n",
        "plt.show()"
      ],
      "metadata": {
        "colab": {
          "base_uri": "https://localhost:8080/",
          "height": 487
        },
        "id": "j-2GK05BfBTr",
        "outputId": "f726b7d3-0e42-4b1c-d303-c6a4e5f95273"
      },
      "execution_count": null,
      "outputs": [
        {
          "output_type": "display_data",
          "data": {
            "text/plain": [
              "<Figure size 640x480 with 1 Axes>"
            ],
            "image/png": "[encoded data removed]"
          },
          "metadata": {}
        }
      ]
    },
    {
      "cell_type": "code",
      "source": [
        "df = enemdf['NU_NOTA_MT']\n",
        "display(df.mean())\n",
        "amostra = df.sample(frac = .1)\n",
        "display(amostra.mean())"
      ],
      "metadata": {
        "colab": {
          "base_uri": "https://localhost:8080/",
          "height": 52
        },
        "id": "cR97_b_Mme8j",
        "outputId": "89a2f325-71fe-419e-b627-5a4fb76dc7a0"
      },
      "execution_count": null,
      "outputs": [
        {
          "output_type": "display_data",
          "data": {
            "text/plain": [
              "541.2797787375023"
            ]
          },
          "metadata": {}
        },
        {
          "output_type": "display_data",
          "data": {
            "text/plain": [
              "544.060425280567"
            ]
          },
          "metadata": {}
        }
      ]
    }
  ]
}